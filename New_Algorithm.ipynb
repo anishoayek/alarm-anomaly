{
 "cells": [
  {
   "cell_type": "markdown",
   "metadata": {},
   "source": [
    "# Import data, packages and preprocessing"
   ]
  },
  {
   "cell_type": "code",
   "execution_count": 1,
   "metadata": {},
   "outputs": [],
   "source": [
    "import numpy as np\n",
    "import pandas as pd\n",
    "import matplotlib.pyplot as plt\n",
    "import random\n",
    "from scipy.spatial import distance"
   ]
  },
  {
   "cell_type": "code",
   "execution_count": 2,
   "metadata": {},
   "outputs": [],
   "source": [
    "data = pd.read_csv ('KPIs sample 5 cells data_train.csv',sep=\";\")"
   ]
  },
  {
   "cell_type": "code",
   "execution_count": 3,
   "metadata": {},
   "outputs": [],
   "source": [
    "#data0 = data[data[\"cell_id\"] == np.unique(data[\"cell_id\"])[0]]"
   ]
  },
  {
   "cell_type": "code",
   "execution_count": 4,
   "metadata": {},
   "outputs": [],
   "source": [
    "#data.dtypes"
   ]
  },
  {
   "cell_type": "code",
   "execution_count": 5,
   "metadata": {},
   "outputs": [],
   "source": [
    "data = data.replace(np.inf, np.nan)\n",
    "data = data.fillna(data.mean())"
   ]
  },
  {
   "cell_type": "code",
   "execution_count": 6,
   "metadata": {},
   "outputs": [],
   "source": [
    "#data.isna().sum()"
   ]
  },
  {
   "cell_type": "code",
   "execution_count": 7,
   "metadata": {},
   "outputs": [],
   "source": [
    "data.iloc[:, 2:data.shape[1]] = (data.iloc[:, 2:data.shape[1]]-data.iloc[:, 2:data.shape[1]].min())/(data.iloc[:, 2:data.shape[1]].max()-data.iloc[:, 2:data.shape[1]].min())"
   ]
  },
  {
   "cell_type": "code",
   "execution_count": 8,
   "metadata": {},
   "outputs": [],
   "source": [
    "#data0 = data.iloc[:, 0:4]\n",
    "data0 = data"
   ]
  },
  {
   "cell_type": "markdown",
   "metadata": {},
   "source": [
    "# Least Distance by dimension"
   ]
  },
  {
   "cell_type": "code",
   "execution_count": 11,
   "metadata": {},
   "outputs": [],
   "source": [
    "def find_nearest(array, value):\n",
    "    array = np.asarray(array)\n",
    "    answer = np.min(np.abs(array - value)[np.nonzero(np.abs(array - value))])\n",
    "    return answer"
   ]
  },
  {
   "cell_type": "code",
   "execution_count": 12,
   "metadata": {},
   "outputs": [],
   "source": [
    "Score = np.ones(data0.shape[0])\n",
    "for i in range(data0.shape[0]):\n",
    "    for j in range(data0.shape[1]-2):\n",
    "        x = np.array(data0.iloc[:, j+2])\n",
    "        Score[i] = Score[i]*find_nearest(np.delete(x, i), data0.iloc[i, j+2])*1.0e4"
   ]
  },
  {
   "cell_type": "markdown",
   "metadata": {},
   "source": [
    "# Global Euclidian distance"
   ]
  },
  {
   "cell_type": "code",
   "execution_count": 13,
   "metadata": {},
   "outputs": [
    {
     "ename": "KeyboardInterrupt",
     "evalue": "",
     "output_type": "error",
     "traceback": [
      "\u001b[1;31m---------------------------------------------------------------------------\u001b[0m",
      "\u001b[1;31mKeyboardInterrupt\u001b[0m                         Traceback (most recent call last)",
      "\u001b[1;32m<ipython-input-13-30d8dab7187c>\u001b[0m in \u001b[0;36m<module>\u001b[1;34m\u001b[0m\n\u001b[0;32m      4\u001b[0m     \u001b[0mDistance\u001b[0m \u001b[1;33m=\u001b[0m \u001b[0mnp\u001b[0m\u001b[1;33m.\u001b[0m\u001b[0mones\u001b[0m\u001b[1;33m(\u001b[0m\u001b[0mdata0\u001b[0m\u001b[1;33m.\u001b[0m\u001b[0mshape\u001b[0m\u001b[1;33m[\u001b[0m\u001b[1;36m0\u001b[0m\u001b[1;33m]\u001b[0m\u001b[1;33m)\u001b[0m\u001b[1;33m\u001b[0m\u001b[1;33m\u001b[0m\u001b[0m\n\u001b[0;32m      5\u001b[0m     \u001b[1;32mfor\u001b[0m \u001b[0mj\u001b[0m \u001b[1;32min\u001b[0m \u001b[0mrange\u001b[0m\u001b[1;33m(\u001b[0m\u001b[0mdata0\u001b[0m\u001b[1;33m.\u001b[0m\u001b[0mshape\u001b[0m\u001b[1;33m[\u001b[0m\u001b[1;36m0\u001b[0m\u001b[1;33m]\u001b[0m\u001b[1;33m)\u001b[0m\u001b[1;33m:\u001b[0m\u001b[1;33m\u001b[0m\u001b[1;33m\u001b[0m\u001b[0m\n\u001b[1;32m----> 6\u001b[1;33m         \u001b[0my\u001b[0m \u001b[1;33m=\u001b[0m \u001b[0mnp\u001b[0m\u001b[1;33m.\u001b[0m\u001b[0masarray\u001b[0m\u001b[1;33m(\u001b[0m\u001b[0mdata0\u001b[0m\u001b[1;33m.\u001b[0m\u001b[0miloc\u001b[0m\u001b[1;33m[\u001b[0m\u001b[0mj\u001b[0m\u001b[1;33m,\u001b[0m \u001b[1;36m2\u001b[0m\u001b[1;33m:\u001b[0m\u001b[0mdata0\u001b[0m\u001b[1;33m.\u001b[0m\u001b[0mshape\u001b[0m\u001b[1;33m[\u001b[0m\u001b[1;36m1\u001b[0m\u001b[1;33m]\u001b[0m\u001b[1;33m]\u001b[0m\u001b[1;33m)\u001b[0m\u001b[1;33m\u001b[0m\u001b[1;33m\u001b[0m\u001b[0m\n\u001b[0m\u001b[0;32m      7\u001b[0m         \u001b[0mDistance\u001b[0m\u001b[1;33m[\u001b[0m\u001b[0mj\u001b[0m\u001b[1;33m]\u001b[0m\u001b[1;33m=\u001b[0m \u001b[0mdistance\u001b[0m\u001b[1;33m.\u001b[0m\u001b[0meuclidean\u001b[0m\u001b[1;33m(\u001b[0m\u001b[0mx\u001b[0m\u001b[1;33m,\u001b[0m \u001b[0my\u001b[0m\u001b[1;33m)\u001b[0m\u001b[1;33m\u001b[0m\u001b[1;33m\u001b[0m\u001b[0m\n\u001b[0;32m      8\u001b[0m     \u001b[0mScore\u001b[0m\u001b[1;33m[\u001b[0m\u001b[0mi\u001b[0m\u001b[1;33m]\u001b[0m \u001b[1;33m=\u001b[0m \u001b[0mnp\u001b[0m\u001b[1;33m.\u001b[0m\u001b[0mmin\u001b[0m\u001b[1;33m(\u001b[0m\u001b[0mDistance\u001b[0m\u001b[1;33m[\u001b[0m\u001b[0mnp\u001b[0m\u001b[1;33m.\u001b[0m\u001b[0mnonzero\u001b[0m\u001b[1;33m(\u001b[0m\u001b[0mDistance\u001b[0m\u001b[1;33m)\u001b[0m\u001b[1;33m]\u001b[0m\u001b[1;33m)\u001b[0m\u001b[1;33m\u001b[0m\u001b[1;33m\u001b[0m\u001b[0m\n",
      "\u001b[1;32mC:\\ProgramData\\Anaconda3\\lib\\site-packages\\pandas\\core\\indexing.py\u001b[0m in \u001b[0;36m__getitem__\u001b[1;34m(self, key)\u001b[0m\n\u001b[0;32m    871\u001b[0m                     \u001b[1;31m# AttributeError for IntervalTree get_value\u001b[0m\u001b[1;33m\u001b[0m\u001b[1;33m\u001b[0m\u001b[1;33m\u001b[0m\u001b[0m\n\u001b[0;32m    872\u001b[0m                     \u001b[1;32mpass\u001b[0m\u001b[1;33m\u001b[0m\u001b[1;33m\u001b[0m\u001b[0m\n\u001b[1;32m--> 873\u001b[1;33m             \u001b[1;32mreturn\u001b[0m \u001b[0mself\u001b[0m\u001b[1;33m.\u001b[0m\u001b[0m_getitem_tuple\u001b[0m\u001b[1;33m(\u001b[0m\u001b[0mkey\u001b[0m\u001b[1;33m)\u001b[0m\u001b[1;33m\u001b[0m\u001b[1;33m\u001b[0m\u001b[0m\n\u001b[0m\u001b[0;32m    874\u001b[0m         \u001b[1;32melse\u001b[0m\u001b[1;33m:\u001b[0m\u001b[1;33m\u001b[0m\u001b[1;33m\u001b[0m\u001b[0m\n\u001b[0;32m    875\u001b[0m             \u001b[1;31m# we by definition only have the 0th axis\u001b[0m\u001b[1;33m\u001b[0m\u001b[1;33m\u001b[0m\u001b[1;33m\u001b[0m\u001b[0m\n",
      "\u001b[1;32mC:\\ProgramData\\Anaconda3\\lib\\site-packages\\pandas\\core\\indexing.py\u001b[0m in \u001b[0;36m_getitem_tuple\u001b[1;34m(self, tup)\u001b[0m\n\u001b[0;32m   1441\u001b[0m     \u001b[1;32mdef\u001b[0m \u001b[0m_getitem_tuple\u001b[0m\u001b[1;33m(\u001b[0m\u001b[0mself\u001b[0m\u001b[1;33m,\u001b[0m \u001b[0mtup\u001b[0m\u001b[1;33m:\u001b[0m \u001b[0mTuple\u001b[0m\u001b[1;33m)\u001b[0m\u001b[1;33m:\u001b[0m\u001b[1;33m\u001b[0m\u001b[1;33m\u001b[0m\u001b[0m\n\u001b[0;32m   1442\u001b[0m \u001b[1;33m\u001b[0m\u001b[0m\n\u001b[1;32m-> 1443\u001b[1;33m         \u001b[0mself\u001b[0m\u001b[1;33m.\u001b[0m\u001b[0m_has_valid_tuple\u001b[0m\u001b[1;33m(\u001b[0m\u001b[0mtup\u001b[0m\u001b[1;33m)\u001b[0m\u001b[1;33m\u001b[0m\u001b[1;33m\u001b[0m\u001b[0m\n\u001b[0m\u001b[0;32m   1444\u001b[0m         \u001b[1;32mtry\u001b[0m\u001b[1;33m:\u001b[0m\u001b[1;33m\u001b[0m\u001b[1;33m\u001b[0m\u001b[0m\n\u001b[0;32m   1445\u001b[0m             \u001b[1;32mreturn\u001b[0m \u001b[0mself\u001b[0m\u001b[1;33m.\u001b[0m\u001b[0m_getitem_lowerdim\u001b[0m\u001b[1;33m(\u001b[0m\u001b[0mtup\u001b[0m\u001b[1;33m)\u001b[0m\u001b[1;33m\u001b[0m\u001b[1;33m\u001b[0m\u001b[0m\n",
      "\u001b[1;32mC:\\ProgramData\\Anaconda3\\lib\\site-packages\\pandas\\core\\indexing.py\u001b[0m in \u001b[0;36m_has_valid_tuple\u001b[1;34m(self, key)\u001b[0m\n\u001b[0;32m    700\u001b[0m                 \u001b[1;32mraise\u001b[0m \u001b[0mIndexingError\u001b[0m\u001b[1;33m(\u001b[0m\u001b[1;34m\"Too many indexers\"\u001b[0m\u001b[1;33m)\u001b[0m\u001b[1;33m\u001b[0m\u001b[1;33m\u001b[0m\u001b[0m\n\u001b[0;32m    701\u001b[0m             \u001b[1;32mtry\u001b[0m\u001b[1;33m:\u001b[0m\u001b[1;33m\u001b[0m\u001b[1;33m\u001b[0m\u001b[0m\n\u001b[1;32m--> 702\u001b[1;33m                 \u001b[0mself\u001b[0m\u001b[1;33m.\u001b[0m\u001b[0m_validate_key\u001b[0m\u001b[1;33m(\u001b[0m\u001b[0mk\u001b[0m\u001b[1;33m,\u001b[0m \u001b[0mi\u001b[0m\u001b[1;33m)\u001b[0m\u001b[1;33m\u001b[0m\u001b[1;33m\u001b[0m\u001b[0m\n\u001b[0m\u001b[0;32m    703\u001b[0m             \u001b[1;32mexcept\u001b[0m \u001b[0mValueError\u001b[0m \u001b[1;32mas\u001b[0m \u001b[0merr\u001b[0m\u001b[1;33m:\u001b[0m\u001b[1;33m\u001b[0m\u001b[1;33m\u001b[0m\u001b[0m\n\u001b[0;32m    704\u001b[0m                 raise ValueError(\n",
      "\u001b[1;31mKeyboardInterrupt\u001b[0m: "
     ]
    }
   ],
   "source": [
    "Score = np.ones(data0.shape[0])\n",
    "for i in range(data0.shape[0]):\n",
    "    x = np.asarray(data0.iloc[i, 2:data0.shape[1]])\n",
    "    Distance = np.ones(data0.shape[0])\n",
    "    for j in range(data0.shape[0]):\n",
    "        y = np.asarray(data0.iloc[j, 2:data0.shape[1]])\n",
    "        Distance[j]= distance.euclidean(x, y)   \n",
    "    Score[i] = np.min(Distance[np.nonzero(Distance)])"
   ]
  },
  {
   "cell_type": "markdown",
   "metadata": {},
   "source": [
    "# Saving scores in an excel sheet"
   ]
  },
  {
   "cell_type": "code",
   "execution_count": null,
   "metadata": {},
   "outputs": [],
   "source": [
    "data1 = data0\n",
    "data1['Score Algorithm'] = Score"
   ]
  },
  {
   "cell_type": "code",
   "execution_count": null,
   "metadata": {},
   "outputs": [],
   "source": [
    "data1.to_csv('Score_Algorithm.csv',sep=\";\",index = False)"
   ]
  },
  {
   "cell_type": "markdown",
   "metadata": {},
   "source": [
    "# Isolation Forest"
   ]
  },
  {
   "cell_type": "code",
   "execution_count": null,
   "metadata": {},
   "outputs": [],
   "source": [
    "from sklearn.ensemble import IsolationForest\n",
    "rng = np.random.RandomState(42)"
   ]
  },
  {
   "cell_type": "code",
   "execution_count": null,
   "metadata": {},
   "outputs": [],
   "source": [
    "data = pd.read_csv ('KPIs sample 5 cells data_train.csv',sep=\";\")\n",
    "data = data.replace(np.inf, np.nan)\n",
    "data = data.fillna(data.mean())\n",
    "data.iloc[:, 2:data.shape[1]] = (data.iloc[:, 2:data.shape[1]]-data.iloc[:, 2:data.shape[1]].min())/(data.iloc[:, 2:data.shape[1]].max()-data.iloc[:, 2:data.shape[1]].min())\n",
    "\n",
    "#data0 = data.iloc[:, 0:4]\n",
    "data0 = data"
   ]
  },
  {
   "cell_type": "code",
   "execution_count": null,
   "metadata": {},
   "outputs": [],
   "source": [
    "# fit the model\n",
    "clf = IsolationForest(max_samples=100, random_state=rng)\n",
    "X_train = data0.iloc[:,2:data0.shape[1]]\n",
    "clf.fit(X_train)\n",
    "y_pred_train = clf.predict(X_train)\n",
    "score_pred_train = clf.decision_function(X_train)"
   ]
  },
  {
   "cell_type": "code",
   "execution_count": null,
   "metadata": {},
   "outputs": [],
   "source": [
    "data2 = data1\n",
    "data2['Binary Score Isolation Forest'] = y_pred_train\n",
    "data2['Score Isolation Forest'] = score_pred_train"
   ]
  },
  {
   "cell_type": "code",
   "execution_count": null,
   "metadata": {},
   "outputs": [],
   "source": [
    "data2.to_csv('Score_Algorithm_vs_RF.csv',sep=\";\",index = False)"
   ]
  },
  {
   "cell_type": "markdown",
   "metadata": {},
   "source": [
    "# Some Analysis"
   ]
  },
  {
   "cell_type": "code",
   "execution_count": null,
   "metadata": {},
   "outputs": [],
   "source": [
    "plt.scatter(score_pred_train, Score)\n",
    "plt.show()"
   ]
  },
  {
   "cell_type": "code",
   "execution_count": null,
   "metadata": {},
   "outputs": [],
   "source": [
    "np.corrcoef(score_pred_train, Score)"
   ]
  },
  {
   "cell_type": "markdown",
   "metadata": {},
   "source": [
    "# Individual Contribution"
   ]
  },
  {
   "cell_type": "code",
   "execution_count": null,
   "metadata": {},
   "outputs": [],
   "source": [
    "data = pd.read_csv ('KPIs sample 5 cells data_train.csv',sep=\";\")\n",
    "data = data.replace(np.inf, np.nan)\n",
    "data = data.fillna(data.mean())\n",
    "data.iloc[:, 2:data.shape[1]] = (data.iloc[:, 2:data.shape[1]]-data.iloc[:, 2:data.shape[1]].min())/(data.iloc[:, 2:data.shape[1]].max()-data.iloc[:, 2:data.shape[1]].min())\n",
    "\n",
    "#data0 = data.iloc[:, 0:4]\n",
    "data0 = data"
   ]
  },
  {
   "cell_type": "code",
   "execution_count": 641,
   "metadata": {},
   "outputs": [],
   "source": [
    "def find_nearest(array, value):\n",
    "    array = np.asarray(array)\n",
    "    answer = np.min(np.abs(array - value)[np.nonzero(np.abs(array - value))])\n",
    "    return answer"
   ]
  },
  {
   "cell_type": "code",
   "execution_count": 685,
   "metadata": {},
   "outputs": [],
   "source": [
    "column_names = data0.columns[2:data0.shape[1]]\n",
    "Contributions = pd.DataFrame(columns = column_names)\n",
    "for i in range(data0.shape[0]):\n",
    "    Indv_Cont = np.ones(data0.shape[1]-2)\n",
    "    for j in range(data0.shape[1]-2):\n",
    "        x = np.array(data0.iloc[:, j+2])\n",
    "        Indv_Cont[j] = find_nearest(np.delete(x, i), data0.iloc[i, j+2])*1.0e4\n",
    "    Contributions.loc[len(Contributions)] = 100*Indv_Cont/sum(Indv_Cont)"
   ]
  },
  {
   "cell_type": "code",
   "execution_count": 689,
   "metadata": {},
   "outputs": [],
   "source": [
    "Contributions.columns = [str(col) + '_Contribution' for col in Contributions.columns]"
   ]
  },
  {
   "cell_type": "code",
   "execution_count": 698,
   "metadata": {},
   "outputs": [],
   "source": [
    "data3 = pd.concat([data0, Contributions], axis=1)"
   ]
  },
  {
   "cell_type": "code",
   "execution_count": 699,
   "metadata": {},
   "outputs": [],
   "source": [
    "data3.to_csv('Anomaly_Contribution.csv',sep=\";\",index = False)"
   ]
  },
  {
   "cell_type": "markdown",
   "metadata": {},
   "source": [
    "# Individual Contribution based also on euclidian"
   ]
  },
  {
   "cell_type": "code",
   "execution_count": 701,
   "metadata": {},
   "outputs": [],
   "source": [
    "data = pd.read_csv ('KPIs sample 5 cells data_train.csv',sep=\";\")\n",
    "data = data.replace(np.inf, np.nan)\n",
    "data = data.fillna(data.mean())\n",
    "data.iloc[:, 2:data.shape[1]] = (data.iloc[:, 2:data.shape[1]]-data.iloc[:, 2:data.shape[1]].min())/(data.iloc[:, 2:data.shape[1]].max()-data.iloc[:, 2:data.shape[1]].min())\n",
    "\n",
    "#data0 = data.iloc[:, 0:4]\n",
    "data0 = data"
   ]
  },
  {
   "cell_type": "code",
   "execution_count": null,
   "metadata": {},
   "outputs": [],
   "source": [
    "Score = np.ones(data0.shape[0])\n",
    "column_names = data0.columns[2:data0.shape[1]]\n",
    "Contributions = pd.DataFrame(columns = column_names)\n",
    "for i in range(data0.shape[0]):\n",
    "    x = np.asarray(data0.iloc[i, 2:data0.shape[1]])\n",
    "    Indv_Cont = np.ones(data0.shape[1]-2)\n",
    "    Distance = np.ones(data0.shape[0])\n",
    "    for j in range(data0.shape[0]):\n",
    "        y = np.asarray(data0.iloc[j, 2:data0.shape[1]])\n",
    "        Distance[j]= distance.euclidean(x, y) \n",
    "    Score[i] = np.min(Distance[np.nonzero(Distance)])\n",
    "    min_index = np.argmin(Distance[np.nonzero(Distance)])+1\n",
    "    z = np.asarray(data0.iloc[min_index, 2:data0.shape[1]])\n",
    "    Indv_Cont = np.abs(x - z)\n",
    "    Contributions.loc[len(Contributions)] = 100*Indv_Cont/sum(Indv_Cont)"
   ]
  },
  {
   "cell_type": "code",
   "execution_count": 731,
   "metadata": {},
   "outputs": [],
   "source": [
    "Contributions.columns = [str(col) + '_Contribution' for col in Contributions.columns]"
   ]
  },
  {
   "cell_type": "code",
   "execution_count": 732,
   "metadata": {},
   "outputs": [],
   "source": [
    "data4 = pd.concat([data0, Contributions], axis=1)"
   ]
  },
  {
   "cell_type": "code",
   "execution_count": 733,
   "metadata": {},
   "outputs": [],
   "source": [
    "data4.to_csv('Anomaly_Contribution_euclidian.csv',sep=\";\",index = False)"
   ]
  },
  {
   "cell_type": "markdown",
   "metadata": {},
   "source": [
    "# Score based on hyper cubes joint distribution"
   ]
  },
  {
   "cell_type": "code",
   "execution_count": 10,
   "metadata": {},
   "outputs": [],
   "source": [
    "m = 10\n",
    "epsilon = 1/data0.shape[0]\n",
    "Area = np.ones(m*m)\n",
    "Probability = np.ones(m*m)\n",
    "Cont1 = np.ones(m*m)\n",
    "Cont2 = np.ones(m*m)"
   ]
  },
  {
   "cell_type": "code",
   "execution_count": 11,
   "metadata": {},
   "outputs": [],
   "source": [
    "x = data0.iloc[8154,:]\n",
    "count = 0\n",
    "index = 0\n",
    "for n1 in range(1,m+1):\n",
    "    for n2 in range(1,m+1):\n",
    "        count = 0\n",
    "        for j in range(data0.shape[0]):\n",
    "            if (data0.iloc[j,4] <= (x[4]+1/n1)) and (data0.iloc[j,4] >= (x[4]-1/n1)) and \\\n",
    "            (data0.iloc[j,7] <= (x[7]+1/n2)) and (data0.iloc[j,7] >= (x[7]-1/n2)):\n",
    "                count = count + 1\n",
    "        index = index + 1 \n",
    "        Area[index-1] = (1/n1)*(1/n2)\n",
    "        Probability[index-1] = (count - 1)/data0.shape[0]\n",
    "        Cont1[index-1] = 2/n1\n",
    "        Cont2[index-1] = 2/n2\n",
    "        #print(count)\n",
    "    \n",
    "Area = np.array(Area)\n",
    "Probability = np.array(Probability)\n",
    "Cont1 = np.array(Cont1)\n",
    "Cont2 = np.array(Cont2)\n",
    "dataset = pd.DataFrame({'Cont1': Cont1,'Cont2': Cont2,'Area': Area, 'Probability': Probability}, columns=['Cont1','Cont2','Area', 'Probability'])"
   ]
  },
  {
   "cell_type": "code",
   "execution_count": 12,
   "metadata": {},
   "outputs": [
    {
     "name": "stdout",
     "output_type": "stream",
     "text": [
      "Cont1          1.000000\n",
      "Cont2          2.000000\n",
      "Area           0.500000\n",
      "Probability    0.000121\n",
      "Name: 10, dtype: float64\n"
     ]
    }
   ],
   "source": [
    "filter_prob = dataset[(dataset['Probability'] <= epsilon ) & (dataset['Probability'] != 0)].index\n",
    "dataset_filtered = dataset.loc[np.array(filter_prob),:]\n",
    "filter_area = np.argmax(dataset_filtered['Area'])\n",
    "print(dataset_filtered.iloc[filter_area,:])"
   ]
  },
  {
   "cell_type": "code",
   "execution_count": 135,
   "metadata": {},
   "outputs": [],
   "source": [
    "dataset.to_csv('joint_distribution_score.csv',sep=\";\",index = False)"
   ]
  },
  {
   "cell_type": "code",
   "execution_count": 73,
   "metadata": {},
   "outputs": [
    {
     "data": {
      "image/png": "[encoded data removed]",
      "text/plain": [
       "<Figure size 432x288 with 1 Axes>"
      ]
     },
     "metadata": {
      "needs_background": "light"
     },
     "output_type": "display_data"
    }
   ],
   "source": [
    "plt.scatter(data0.iloc[:,4], data0.iloc[:,7])\n",
    "plt.show()"
   ]
  },
  {
   "cell_type": "markdown",
   "metadata": {},
   "source": [
    "## Score based on hyper cubes joint distribution (Full data code)"
   ]
  },
  {
   "cell_type": "code",
   "execution_count": 72,
   "metadata": {},
   "outputs": [],
   "source": [
    "m = 10 #number of steps to consider\n",
    "n = 100 #number of observations\n",
    "k = 3 #number of variables\n",
    "epsilon = 0.01#1/data0.shape[0]\n",
    "Result = pd.DataFrame(columns=['Observation Index', 'Anomaly Score'])\n",
    "Area = np.ones(m**k)\n",
    "Probability = np.ones(m**k)\n",
    "Cont1 = np.ones(m**k)\n",
    "Cont2 = np.ones(m**k)\n",
    "Cont3 = np.ones(m**k)\n",
    "Cont4 = np.ones(m**k)\n",
    "Cont5 = np.ones(m**k)\n",
    "Cont6 = np.ones(m**k)\n",
    "Cont7 = np.ones(m**k)\n",
    "Cont8 = np.ones(m**k)\n",
    "Cont9 = np.ones(m**k)\n",
    "Cont10 = np.ones(m**k)\n",
    "Cont11 = np.ones(m**k)\n",
    "Cont12 = np.ones(m**k)\n",
    "Cont13 = np.ones(m**k)\n",
    "Cont14 = np.ones(m**k)\n",
    "Cont15 = np.ones(m**k)\n",
    "Cont16 = np.ones(m**k)\n",
    "Cont17 = np.ones(m**k)\n",
    "Cont18 = np.ones(m**k)\n",
    "Cont19 = np.ones(m**k)\n",
    "Cont20 = np.ones(m**k)\n",
    "Cont21 = np.ones(m**k)\n",
    "Cont22 = np.ones(m**k)\n",
    "Cont23 = np.ones(m**k)\n",
    "Cont24 = np.ones(m**k)"
   ]
  },
  {
   "cell_type": "code",
   "execution_count": null,
   "metadata": {},
   "outputs": [],
   "source": [
    "for i in range(n):\n",
    "    x = data0.iloc[i,:]\n",
    "    count = 0\n",
    "    index = 0\n",
    "    for n1 in range(1,m+1):\n",
    "        for n2 in range(1,m+1):\n",
    "            for n3 in range(1,m+1):\n",
    "                for n4 in range(1,m+1):\n",
    "                    for n5 in range(1,m+1):\n",
    "                        for n6 in range(1,m+1):\n",
    "                            for n7 in range(1,m+1):\n",
    "                                for n8 in range(1,m+1):\n",
    "                                    for n9 in range(1,m+1):\n",
    "                                        for n10 in range(1,m+1):\n",
    "                                            for n11 in range(1,m+1):\n",
    "                                                for n12 in range(1,m+1):\n",
    "                                                    for n13 in range(1,m+1):\n",
    "                                                        for n14 in range(1,m+1):\n",
    "                                                            for n15 in range(1,m+1):\n",
    "                                                                for n16 in range(1,m+1):\n",
    "                                                                    for n17 in range(1,m+1):\n",
    "                                                                        for n18 in range(1,m+1):\n",
    "                                                                            for n19 in range(1,m+1):\n",
    "                                                                                for n20 in range(1,m+1):\n",
    "                                                                                    for n21 in range(1,m+1):\n",
    "                                                                                        for n22 in range(1,m+1):\n",
    "                                                                                            for n23 in range(1,m+1):\n",
    "                                                                                                for n24 in range(1,m+1):\n",
    "                                                                                                    for j in range(data0.shape[0]):\n",
    "                                                                                                        if (data0.iloc[j,2] <= (x[2]+1/n1)) and (data0.iloc[j,2] >= (x[2]-1/n1)) and \\\n",
    "                                                                                                        (data0.iloc[j,3] <= (x[3]+1/n2)) and (data0.iloc[j,3] >= (x[3]-1/n2)) and \\\n",
    "                                                                                                        (data0.iloc[j,4] <= (x[4]+1/n3)) and (data0.iloc[j,4] >= (x[4]-1/n3)) and \\\n",
    "                                                                                                        (data0.iloc[j,5] <= (x[5]+1/n4)) and (data0.iloc[j,5] >= (x[5]-1/n4)) and \\\n",
    "                                                                                                        (data0.iloc[j,6] <= (x[6]+1/n5)) and (data0.iloc[j,6] >= (x[6]-1/n5)) and \\\n",
    "                                                                                                        (data0.iloc[j,7] <= (x[7]+1/n6)) and (data0.iloc[j,7] >= (x[7]-1/n6)) and \\\n",
    "                                                                                                        (data0.iloc[j,8] <= (x[8]+1/n7)) and (data0.iloc[j,8] >= (x[8]-1/n7)) and \\\n",
    "                                                                                                        (data0.iloc[j,9] <= (x[9]+1/n8)) and (data0.iloc[j,9] >= (x[9]-1/n8)) and \\\n",
    "                                                                                                        (data0.iloc[j,10] <= (x[10]+1/n9)) and (data0.iloc[j,10] >= (x[10]-1/n9)) and \\\n",
    "                                                                                                        (data0.iloc[j,11] <= (x[11]+1/n10)) and (data0.iloc[j,11] >= (x[11]-1/n10)) and \\\n",
    "                                                                                                        (data0.iloc[j,12] <= (x[12]+1/n11)) and (data0.iloc[j,12] >= (x[12]-1/n11)) and \\\n",
    "                                                                                                        (data0.iloc[j,13] <= (x[13]+1/n12)) and (data0.iloc[j,13] >= (x[13]-1/n12)) and \\\n",
    "                                                                                                        (data0.iloc[j,14] <= (x[14]+1/n13)) and (data0.iloc[j,14] >= (x[14]-1/n13)) and \\\n",
    "                                                                                                        (data0.iloc[j,15] <= (x[15]+1/n14)) and (data0.iloc[j,15] >= (x[15]-1/n14)) and \\\n",
    "                                                                                                        (data0.iloc[j,16] <= (x[16]+1/n15)) and (data0.iloc[j,16] >= (x[16]-1/n15)) and \\\n",
    "                                                                                                        (data0.iloc[j,17] <= (x[17]+1/n16)) and (data0.iloc[j,17] >= (x[17]-1/n16)) and \\\n",
    "                                                                                                        (data0.iloc[j,18] <= (x[18]+1/n17)) and (data0.iloc[j,18] >= (x[18]-1/n17)) and \\\n",
    "                                                                                                        (data0.iloc[j,19] <= (x[19]+1/n18)) and (data0.iloc[j,19] >= (x[19]-1/n18)) and \\\n",
    "                                                                                                        (data0.iloc[j,20] <= (x[20]+1/n19)) and (data0.iloc[j,20] >= (x[20]-1/n19)) and \\\n",
    "                                                                                                        (data0.iloc[j,21] <= (x[21]+1/n20)) and (data0.iloc[j,21] >= (x[21]-1/n20)) and \\\n",
    "                                                                                                        (data0.iloc[j,22] <= (x[22]+1/n21)) and (data0.iloc[j,22] >= (x[22]-1/n21)) and \\\n",
    "                                                                                                        (data0.iloc[j,23] <= (x[23]+1/n22)) and (data0.iloc[j,23] >= (x[23]-1/n22)) and \\\n",
    "                                                                                                        (data0.iloc[j,24] <= (x[24]+1/n23)) and (data0.iloc[j,24] >= (x[24]-1/n23)) and \\\n",
    "                                                                                                        (data0.iloc[j,25] <= (x[25]+1/n24)) and (data0.iloc[j,25] >= (x[25]-1/n24)):\n",
    "                                                                                                            count = count + 1\n",
    "                                                                                                    index = index + 1 \n",
    "                                                                                                    Area[index-1] = (1/n1)*(1/n2)\n",
    "                                                                                                    Probability[index-1] = (count - 1)/data0.shape[0]                                                                                                    \n",
    "    Area = np.array(Area)\n",
    "    Probability = np.array(Probability)\n",
    "    dataset = pd.DataFrame({'Area': Area, 'Probability': Probability}, columns=['Area', 'Probability'])\n",
    "    filter_prob = dataset[(dataset['Probability'] <= epsilon ) & (dataset['Probability'] != 0)].index\n",
    "    dataset_filtered = dataset.loc[np.array(filter_prob),:]\n",
    "    filter_area = np.argmax(dataset_filtered['Area'])\n",
    "    Result.append({'Observation Index': i, 'Anomaly Score': dataset_filtered.iloc[filter_area,2]}, ignore_index=True)\n",
    "    \n",
    "    "
   ]
  },
  {
   "cell_type": "markdown",
   "metadata": {},
   "source": [
    "## Adapt number of variables"
   ]
  },
  {
   "cell_type": "code",
   "execution_count": 73,
   "metadata": {},
   "outputs": [],
   "source": [
    "for i in range(n):\n",
    "    x = data0.iloc[i,:]\n",
    "    count = 0\n",
    "    index = 0\n",
    "    for n1 in range(1,m+1):\n",
    "        for n2 in range(1,m+1):\n",
    "            for n3 in range(1,m+1):\n",
    "                if (data0.iloc[j,2] <= (x[2]+1/n1)) and (data0.iloc[j,2] >= (x[2]-1/n1)) and \\\n",
    "                (data0.iloc[j,3] <= (x[3]+1/n2)) and (data0.iloc[j,3] >= (x[3]-1/n2)) and \\\n",
    "                (data0.iloc[j,4] <= (x[4]+1/n3)) and (data0.iloc[j,4] >= (x[4]-1/n3)):\n",
    "                    count = count + 1\n",
    "            index = index + 1 \n",
    "            Area[index-1] = (1/n1)*(1/n2)\n",
    "            Probability[index-1] = (count - 1)/data0.shape[0]                                                                                                    \n",
    "    Area = np.array(Area)\n",
    "    Probability = np.array(Probability)\n",
    "    dataset = pd.DataFrame({'Area': Area, 'Probability': Probability}, columns=['Area', 'Probability'])\n",
    "    filter_prob = dataset[(dataset['Probability'] <= epsilon ) & (dataset['Probability'] != 0)].index\n",
    "    dataset_filtered = dataset.loc[np.array(filter_prob),:]\n",
    "    filter_area = np.argmax(dataset_filtered['Area'])\n",
    "    Result = Result.append({'Observation Index': i, 'Anomaly Score': dataset_filtered.iloc[filter_area,0]}, ignore_index=True)\n",
    "    "
   ]
  },
  {
   "cell_type": "code",
   "execution_count": null,
   "metadata": {},
   "outputs": [],
   "source": []
  }
 ],
 "metadata": {
  "kernelspec": {
   "display_name": "Python 3",
   "language": "python",
   "name": "python3"
  },
  "language_info": {
   "codemirror_mode": {
    "name": "ipython",
    "version": 3
   },
   "file_extension": ".py",
   "mimetype": "text/x-python",
   "name": "python",
   "nbconvert_exporter": "python",
   "pygments_lexer": "ipython3",
   "version": "3.8.5"
  }
 },
 "nbformat": 4,
 "nbformat_minor": 4
}
